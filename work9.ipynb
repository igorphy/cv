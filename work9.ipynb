#include "dacha3.png"
{
 "cells": [
  {
   "cell_type": "markdown",
   "id": "26ab46ed-53a6-48aa-aa69-98186b5f1759",
   "metadata": {},
   "source": [
    "WORK 9\n",
    "\n",
    "In this homework, you are going to use the dlib face detector and apply it to an image of your liking. You can follow the procedure shown in lesson 9. Please always comment your code so I can see what you're doing :-)\n",
    "For this homework we are not going to provide you with any code, you'll have to build the face detector on your own."
   ]
  },
  {
   "cell_type": "code",
   "execution_count": 2,
   "id": "28c0f1fd-ae29-41d5-89b8-7a6ab843ca15",
   "metadata": {},
   "outputs": [
    {
     "ename": "RuntimeError",
     "evalue": "\n\nError detected at line 111.\nError detected in file C:\\Users\\z84294149\\dlib_test\\dlib\\python/numpy_image.h.\nError detected in function const char *__cdecl dlib::assert_is_image::<lambda_de3c6b0f8a456826f70b6ec82a782d8e>::operator ()(char,unsigned __int64) const.\n\nFailing expression was false.\nunknown type\n",
     "output_type": "error",
     "traceback": [
      "\u001b[1;31m---------------------------------------------------------------------------\u001b[0m",
      "\u001b[1;31mRuntimeError\u001b[0m                              Traceback (most recent call last)",
      "Cell \u001b[1;32mIn[2], line 21\u001b[0m\n\u001b[0;32m     19\u001b[0m detector \u001b[38;5;241m=\u001b[39m dlib\u001b[38;5;241m.\u001b[39mget_frontal_face_detector()\n\u001b[0;32m     20\u001b[0m img_path \u001b[38;5;241m=\u001b[39m \u001b[38;5;124m'\u001b[39m\u001b[38;5;124m../data/eu_summit.jpg\u001b[39m\u001b[38;5;124m'\u001b[39m\n\u001b[1;32m---> 21\u001b[0m img \u001b[38;5;241m=\u001b[39m \u001b[43mdlib\u001b[49m\u001b[38;5;241;43m.\u001b[39;49m\u001b[43mload_grayscale_image\u001b[49m\u001b[43m(\u001b[49m\u001b[43mimg_path\u001b[49m\u001b[43m)\u001b[49m\n\u001b[0;32m     22\u001b[0m \u001b[38;5;66;03m# Обнаружение лиц\u001b[39;00m\n\u001b[0;32m     23\u001b[0m faces \u001b[38;5;241m=\u001b[39m detector(img)\n",
      "\u001b[1;31mRuntimeError\u001b[0m: \n\nError detected at line 111.\nError detected in file C:\\Users\\z84294149\\dlib_test\\dlib\\python/numpy_image.h.\nError detected in function const char *__cdecl dlib::assert_is_image::<lambda_de3c6b0f8a456826f70b6ec82a782d8e>::operator ()(char,unsigned __int64) const.\n\nFailing expression was false.\nunknown type\n"
     ]
    }
   ],
   "source": [
    "import cv2\n",
    "import math\n",
    "import numpy as np\n",
    "import dlib\n",
    "from matplotlib import pyplot as plt\n",
    "plt.rcParams['figure.figsize'] = [15, 10]\n",
    "img = cv2.imread('../data/eu_summit.jpg', cv2.IMREAD_GRAYSCALE)\n",
    "#img = np.array(img, dtype=np.uint8)\n",
    "#img = cv2.cvtColor(img, cv2.COLOR_BGR2RGB)\n",
    "#img = cv2.cvtColor(img, cv2.COLOR_RGB2GRAY)\n",
    "#img = img.astype(np.uint8)\n",
    "#plt.imshow(img)\n",
    "\n",
    "\n",
    "predictor_path = \"../data/shape_predictor_68_face_landmarks.dat\"\n",
    "\n",
    "# 1. Загрузка детектора лиц\n",
    "\n",
    "detector = dlib.get_frontal_face_detector()\n",
    "img_path = '../data/eu_summit.jpg'\n",
    "img = dlib.load_grayscale_image(img_path)\n",
    "# Обнаружение лиц\n",
    "faces = detector(img)"
   ]
  },
  {
   "cell_type": "code",
   "execution_count": 3,
   "id": "a2893f0a-2da5-4e66-bce3-b05d926b2311",
   "metadata": {},
   "outputs": [
    {
     "name": "stdout",
     "output_type": "stream",
     "text": [
      "Версия dlib: 19.24.99\n"
     ]
    }
   ],
   "source": [
    "import dlib\n",
    "print(f\"Версия dlib: {dlib.__version__}\")"
   ]
  },
  {
   "cell_type": "code",
   "execution_count": null,
   "id": "2c81601e-944d-49a6-a2e1-09ee54dfeacd",
   "metadata": {},
   "outputs": [],
   "source": []
  },
  {
   "cell_type": "code",
   "execution_count": null,
   "id": "225ec4bd-20e6-477b-bc65-56d8b12ac1cd",
   "metadata": {},
   "outputs": [],
   "source": []
  }
 ],
 "metadata": {
  "kernelspec": {
   "display_name": "Python 3 (ipykernel)",
   "language": "python",
   "name": "python3"
  },
  "language_info": {
   "codemirror_mode": {
    "name": "ipython",
    "version": 3
   },
   "file_extension": ".py",
   "mimetype": "text/x-python",
   "name": "python",
   "nbconvert_exporter": "python",
   "pygments_lexer": "ipython3",
   "version": "3.12.4"
  }
 },
 "nbformat": 4,
 "nbformat_minor": 5
}